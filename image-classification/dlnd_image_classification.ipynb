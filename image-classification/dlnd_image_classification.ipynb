{
 "cells": [
  {
   "cell_type": "markdown",
   "metadata": {
    "collapsed": true
   },
   "source": [
    "# Classificação de Imagens\n",
    "Neste projeto, você irá classificar imagens do [CIFAR-10](https://www.cs.toronto.edu/~kriz/cifar.html).  Esse conjunto de dados consiste em imagens de aviões, cães, gatos e outros objetos. Você irá preprocessar os dados e depois treinar uma rede neural convolucional em todas as amostras. As imagens têm de ser normalizadas e as legendas devem estar em código one-hot.  Você terá a oportunidade de aplicar o que aprendeu e criar camadas de convolução, de máxima ativação (max-pooling), de desligamento (dropout) e totalmente conectada (fully-connected). Ao final, você verá as predições da sua rede neural sobre as imagens amostradas.\n",
    "## Obtenha os Dados\n",
    "Rode o código da célula abaixo para baixar o conjunto de dados [CIFAR-10 para python](https://www.cs.toronto.edu/~kriz/cifar-10-python.tar.gz)."
   ]
  },
  {
   "cell_type": "code",
   "execution_count": null,
   "metadata": {},
   "outputs": [],
   "source": [
    "\"\"\"\n",
    "NÃO MODIFIQUE NADA NESTA CÉLULA QUE ESTEJA ABAIXO DESTA LINHA\n",
    "\"\"\"\n",
    "from urllib.request import urlretrieve\n",
    "from os.path import isfile, isdir\n",
    "from tqdm import tqdm\n",
    "import problem_unittests as tests\n",
    "import tarfile\n",
    "\n",
    "cifar10_dataset_folder_path = 'cifar-10-batches-py'\n",
    "\n",
    "# Use Floyd's cifar-10 dataset if present\n",
    "floyd_cifar10_location = '/cifar/cifar-10-python.tar.gz'\n",
    "if isfile(floyd_cifar10_location):\n",
    "    tar_gz_path = floyd_cifar10_location\n",
    "else:\n",
    "    tar_gz_path = 'cifar-10-python.tar.gz'\n",
    "\n",
    "class DLProgress(tqdm):\n",
    "    last_block = 0\n",
    "\n",
    "    def hook(self, block_num=1, block_size=1, total_size=None):\n",
    "        self.total = total_size\n",
    "        self.update((block_num - self.last_block) * block_size)\n",
    "        self.last_block = block_num\n",
    "\n",
    "if not isfile(tar_gz_path):\n",
    "    with DLProgress(unit='B', unit_scale=True, miniters=1, desc='CIFAR-10 Dataset') as pbar:\n",
    "        urlretrieve(\n",
    "            'https://www.cs.toronto.edu/~kriz/cifar-10-python.tar.gz',\n",
    "            tar_gz_path,\n",
    "            pbar.hook)\n",
    "\n",
    "if not isdir(cifar10_dataset_folder_path):\n",
    "    with tarfile.open(tar_gz_path) as tar:\n",
    "        tar.extractall()\n",
    "        tar.close()\n",
    "\n",
    "\n",
    "tests.test_folder_path(cifar10_dataset_folder_path)"
   ]
  },
  {
   "cell_type": "markdown",
   "metadata": {},
   "source": [
    "## Explore os Dados\n",
    "O conjunto de dados está dividido em baterias para evitar que sua máquina fique sem memória.  O CIFAR-10 consiste em 5 baterias, nomeadas `data_batch_1`, `data_batch_2`, etc.. Cada bateria contém legendas e imagens que se enquadram em uma das categorias a seguir:\n",
    "* avião\n",
    "* automóvel\n",
    "* ave\n",
    "* gato\n",
    "* veado\n",
    "* cão\n",
    "* rã\n",
    "* cavalo\n",
    "* navio\n",
    "* caminhão\n",
    "\n",
    "Entender o conjunto de dados faz parte do processo de predição dos dados. Brinque um pouco com o código abaixo mudando o `batch_id` e o `sample_id`. O `batch_id` é o id da bateria (1-5). O `sample_id` é o id do par imagem-legenda da bateria.\n",
    "\n",
    "Se pergunte \"Quais são todas as possíveis legendas?\", \"Qual é a faixa de valores para os dados das imagens?\", \"As legendas estão em uma sequência ordenada ou aleatória?\".  Respostas para questões como essas vão ajudá-lo a preprocessar os dados e obter melhores predições."
   ]
  },
  {
   "cell_type": "code",
   "execution_count": null,
   "metadata": {},
   "outputs": [],
   "source": [
    "%matplotlib inline\n",
    "%config InlineBackend.figure_format = 'retina'\n",
    "\n",
    "import helper\n",
    "import numpy as np\n",
    "\n",
    "# Explore o conjunto de dados\n",
    "batch_id = 1\n",
    "sample_id = 5\n",
    "helper.display_stats(cifar10_dataset_folder_path, batch_id, sample_id)"
   ]
  },
  {
   "cell_type": "markdown",
   "metadata": {},
   "source": [
    "## Implemente Funções de Pré-processamento\n",
    "### Normalize\n",
    "Na célula abaixo, implemente a função `normalize` para obter os dados de imagem, `x`, e retorná-los como um Numpy array normalizado. Os valores devem estar dentro da faixa de 0 a 1, inclusive.  O objeto de retorno da função deve ter o mesmo formato que `x`."
   ]
  },
  {
   "cell_type": "code",
   "execution_count": null,
   "metadata": {},
   "outputs": [],
   "source": [
    "def normalize(x):\n",
    "    \"\"\"\n",
    "    Normaliza os dados da lista de imagens com valores na faixa de 0 a 1\n",
    "    : x: Lista com as imagens amostradas.  O formato da imagem é (32, 32, 3)\n",
    "    : retorna: Numpy array com valores normalizados\n",
    "    \"\"\"\n",
    "    # TODO: Implementar Função\n",
    "    return None\n",
    "\n",
    "\n",
    "\"\"\"\n",
    "NÃO MODIFIQUE NADA NESTA CÉLULA QUE ESTEJA ABAIXO DESTA LINHA\n",
    "\"\"\"\n",
    "tests.test_normalize(normalize)"
   ]
  },
  {
   "cell_type": "markdown",
   "metadata": {},
   "source": [
    "### Código One-hot\n",
    "Da mesma forma que na célula anterior, você irá implementar uma função de pré-processamento. Desta vez, você irá implementar a função `one_hot_encode`. A entrada, `x`, é uma lista de legendas. Implemente a função para retornar as legendas como Numpy array em código One-Hot. Os valores possíveis  para legendas são 0 a 9. A função de codificação one-hot deve retornar a mesma codificação para cada valor entre cada chamada do `one_hot_encode`.  Certifique-se de salvar o mapa de codificações fora da função.\n",
    "\n",
    "Dica: Não reinvente a roda."
   ]
  },
  {
   "cell_type": "code",
   "execution_count": null,
   "metadata": {},
   "outputs": [],
   "source": [
    "def one_hot_encode(x):\n",
    "    \"\"\"\n",
    "    Codifica uma lista de amostras de legendas em código one-hot. Retorna um vetor em código one-hot para cada legenda.\n",
    "    : x: Lista de legendas amostradas\n",
    "    : retorna: Numpy array das legendas em código one-hot\n",
    "    \"\"\"\n",
    "    # TODO: Implementar Função\n",
    "    return None\n",
    "\n",
    "\n",
    "\"\"\"\n",
    "NÃO MODIFIQUE NADA NESTA CÉLULA QUE ESTEJA ABAIXO DESTA LINHA\n",
    "\"\"\"\n",
    "tests.test_one_hot_encode(one_hot_encode)"
   ]
  },
  {
   "cell_type": "markdown",
   "metadata": {},
   "source": [
    "### Aleatorize os Dados\n",
    "Como visto ao explorar os dados acima, a ordem das amostras estão em ordem aleatória.  Não custa nada aleatorizá-las novamente, mas você não precisa fazer isso para este conjunto de dados."
   ]
  },
  {
   "cell_type": "markdown",
   "metadata": {},
   "source": [
    "## Preprocesse e salve todos os dados\n",
    "Rodar o código abaixo fará o pré-processamento dos dados em CIFAR-10 e irá salvá-los em um arquivo. O código abaixo usa 10% dos dados de treinamento para validação."
   ]
  },
  {
   "cell_type": "code",
   "execution_count": null,
   "metadata": {},
   "outputs": [],
   "source": [
    "\"\"\"\n",
    "NÃO MODIFIQUE NADA NESTA CÉLULA QUE ESTEJA ABAIXO DESTA LINHA\n",
    "\"\"\"\n",
    "# Preprocessa os dados de treinamento, validação e teste\n",
    "helper.preprocess_and_save_data(cifar10_dataset_folder_path, normalize, one_hot_encode)"
   ]
  },
  {
   "cell_type": "markdown",
   "metadata": {},
   "source": [
    "# Ponto de Parada (Check Point)\n",
    "Este é seu primeiro ponto de parada.  Se você decidir voltar a este notebook ou tiver que recomeçá-lo, você pode começar a partir daqui.  Os dados preprocessados estão salvos no disco."
   ]
  },
  {
   "cell_type": "code",
   "execution_count": null,
   "metadata": {
    "collapsed": true
   },
   "outputs": [],
   "source": [
    "\"\"\"\n",
    "NÃO MODIFIQUE NADA NESTA CÉLULA\n",
    "\"\"\"\n",
    "import pickle\n",
    "import problem_unittests as tests\n",
    "import helper\n",
    "\n",
    "# Carrega os dados de validação preprocessados\n",
    "valid_features, valid_labels = pickle.load(open('preprocess_validation.p', mode='rb'))"
   ]
  },
  {
   "cell_type": "markdown",
   "metadata": {},
   "source": [
    "## Crie a rede\n",
    "Para a rede neural, você irá criar cada camada dentro de uma função. A maior parte do código que você viu até agora estava fora de funções. Para testar seu código mais exaustivamente, pedimos que você coloque cada camada em uma função. Isso nos permite dar um melhor feedback e testar erros simples usando nossos testes de unidade antes que você envie seu projeto.\n",
    "\n",
    ">**Obs:** Se você estiver achando difícil dedicar tempo o suficiente a cada semana para este curso, nós oferecemos um pequeno atalho para esta parte do projeto. Nos próximos problemas, você terá a opção de usar classes dos pacotes [TensorFlow Layers](https://www.tensorflow.org/api_docs/python/tf/layers) ou [TensorFlow Layers (contrib)](https://www.tensorflow.org/api_guides/python/contrib.layers) para criar cada camada, exceto as camadas que você criará na seção \"Camada Convolucional e Max Pooling\".  TF Layers é similar à abstração de camadas do Keras e do TFLearn, então fica fácil entender.\n",
    "\n",
    ">Contudo, se você quiser aproveitar ao máximo este curso, tente resolver todos os problemas _sem_ utilizar nada dos pacotes TF Layers. Você **pode** utilizar classes de outros pacotes que venham a ter o mesmo nome dos que você encontra na TF Layers! Por exemplo, em vez de usar a versão TF Layers da classe `conv2d`, [tf.layers.conv2d](https://www.tensorflow.org/api_docs/python/tf/layers/conv2d), você pode utilizar a versão TF Neural Network de `conv2d`, [tf.nn.conv2d](https://www.tensorflow.org/api_docs/python/tf/nn/conv2d). \n",
    "\n",
    "Vamos começar!\n",
    "\n",
    "### Entrada\n",
    "A rede neural precisa ler as imagens, as legendas em código one-hot e a probabilidade de não desligamento. Implemente as funções a seguir\n",
    "* Implemente `neural_net_image_input`\n",
    " * Retorne um [TF Placeholder](https://www.tensorflow.org/api_docs/python/tf/placeholder)\n",
    " * Defina o formato utilizando `image_shape` com tamanho de bateria `None`.\n",
    " * Nomeie o TensorFlow placeholder \"x\" utilizando o parâmetro TensorFlow `name` do [TF Placeholder](https://www.tensorflow.org/api_docs/python/tf/placeholder).\n",
    "* Implemente `neural_net_label_input`\n",
    " * Retorne um [TF Placeholder](https://www.tensorflow.org/api_docs/python/tf/placeholder)\n",
    " * Defina o formato utilizando `n_classes` com tamanho de bateria `None`.\n",
    " *Nomeie o TensorFlow placeholder \"y\" utilizando o parâmetro TensorFlow `name` do [TF Placeholder](https://www.tensorflow.org/api_docs/python/tf/placeholder).\n",
    "* Implemente `neural_net_keep_prob_input`\n",
    " * Retorne um [TF Placeholder](https://www.tensorflow.org/api_docs/python/tf/placeholder) para a probabilidade de não desligamento.\n",
    " * Nomeie o TensorFlow placeholder \"keep_prob\" utilizando o parâmetro TensorFlow `name` do [TF Placeholder](https://www.tensorflow.org/api_docs/python/tf/placeholder).\n",
    "\n",
    "Esses nomes serão usados ao final do projeto para carregar o seu modelo depois de salvo.\n",
    "\n",
    "Obs: `None` para formatos em TensorFlow permitem um tamanho dinâmico."
   ]
  },
  {
   "cell_type": "code",
   "execution_count": null,
   "metadata": {},
   "outputs": [],
   "source": [
    "import tensorflow as tf\n",
    "\n",
    "def neural_net_image_input(image_shape):\n",
    "    \"\"\"\n",
    "    Retorna um Tensor para uma bateria de entradas de imagens\n",
    "    : image_shape: Formato das imagens\n",
    "    : retorna: Tensor para a entrada de imagens.\n",
    "    \"\"\"\n",
    "    # TODO: Implementar Função\n",
    "    return None\n",
    "\n",
    "\n",
    "def neural_net_label_input(n_classes):\n",
    "    \"\"\"\n",
    "    Retorna um Tensor para uma bateria de entradas de legendas\n",
    "    : n_classes: Número de classes\n",
    "    : return: Tensor para entrada de legendas.\n",
    "    \"\"\"\n",
    "    # TODO: Implementar Função\n",
    "    return None\n",
    "\n",
    "\n",
    "def neural_net_keep_prob_input():\n",
    "    \"\"\"\n",
    "    Retorna um Tensor para probabilidade de não desligamento\n",
    "    : return: Tensor para probabilidade de não desligamento.\n",
    "    \"\"\"\n",
    "    # TODO: Implementar Função\n",
    "    return None\n",
    "\n",
    "\n",
    "\"\"\"\n",
    "NÃO MODIFIQUE NADA NESTA CÉLULA QUE ESTEJA ABAIXO DESTA LINHA\n",
    "\"\"\"\n",
    "tf.reset_default_graph()\n",
    "tests.test_nn_image_inputs(neural_net_image_input)\n",
    "tests.test_nn_label_inputs(neural_net_label_input)\n",
    "tests.test_nn_keep_prob_inputs(neural_net_keep_prob_input)"
   ]
  },
  {
   "cell_type": "markdown",
   "metadata": {},
   "source": [
    "### Camada de Convolução e Max Pooling\n",
    "Camadas de convolução têm muito sucesso com imagens. Para esta célula de código, você deverá implementar a função `conv2d_maxpool` para aplicar convolução e depois seleção do valor máximo (max pooling):\n",
    "* Crie o peso e tendência utilizando `conv_ksize`, `conv_num_outputs` e o formato de `x_tensor`.\n",
    "* Aplique a convolução ao `x_tensor` utilizando peso e `conv_strides`.\n",
    " * Recomendamos que você use o mesmo padding, mas fique à vontade para usar qualquer padding.\n",
    "* Adiciona tendência\n",
    "* Adiciona ativação não-linear à convolução.\n",
    "* Aplica Max Pooling usando `pool_ksize` e `pool_strides`.\n",
    " * Recomendamos que você use o mesmo padding, mas fique à vontade para usar qualquer padding.\n",
    "\n",
    "**Obs:** Você **não pode** usar [TensorFlow Layers](https://www.tensorflow.org/api_docs/python/tf/layers) ou [TensorFlow Layers (contrib)](https://www.tensorflow.org/api_guides/python/contrib.layers) para **esta** camada, mas ainda pode utilizar o pacote de [Rede Neural](https://www.tensorflow.org/api_docs/python/tf/nn) do TensorFlow. Você pode continuar a usar a opção de atalho para as **outras** camadas."
   ]
  },
  {
   "cell_type": "code",
   "execution_count": null,
   "metadata": {},
   "outputs": [],
   "source": [
    "def conv2d_maxpool(x_tensor, conv_num_outputs, conv_ksize, conv_strides, pool_ksize, pool_strides):\n",
    "    \"\"\"\n",
    "    Aplica convolução seguida de max pooling ao x_tensor\n",
    "    :param x_tensor: Tensor TensorFlow\n",
    "    :param conv_num_outputs: Número de saídas da camada convolucional\n",
    "    :param conv_ksize: Tupla 2-D com o tamanho do campo (kernel) para a camada convolucional\n",
    "    :param conv_strides: Tupla 2-D com strides para convolução\n",
    "    :param pool_ksize: Tupla 2-D com o tamanho do campo (kernel) para subamostragem (pooling)\n",
    "    :param pool_strides: Tupla 2-D com strides para subamostragem (pooling)\n",
    "    : retorna: Um tensor que representa a convolução e max pooling de x_tensor\n",
    "    \"\"\"\n",
    "    # TODO: Implementar Função\n",
    "    return None \n",
    "\n",
    "\n",
    "\"\"\"\n",
    "NÃO MODIFIQUE NADA NESTA CÉLULA QUE ESTEJA ABAIXO DESTA LINHA\n",
    "\"\"\"\n",
    "tests.test_con_pool(conv2d_maxpool)"
   ]
  },
  {
   "cell_type": "markdown",
   "metadata": {},
   "source": [
    "### Camada Flatten\n",
    "Implemente a função `flatten` (achatar) para mudar a dimensão de `x_tensor` de um tensor 4-D para um tensor 2-D.  A saída deve ter o formato (*Tamanho da Bateria*, *Tamanho da Imagem Achatada*). Opção de atalho: você pode usar classes dos pacotes [TensorFlow Layers](https://www.tensorflow.org/api_docs/python/tf/layers) ou [TensorFlow Layers (contrib)](https://www.tensorflow.org/api_guides/python/contrib.layers) para esta camada. Para um desafio maior, use apenas os outros pacotes TensorFlow."
   ]
  },
  {
   "cell_type": "code",
   "execution_count": null,
   "metadata": {},
   "outputs": [],
   "source": [
    "def flatten(x_tensor):\n",
    "    \"\"\"\n",
    "    Achata x_tensor para o formato (Tamanho da Bateria, Tamanho da Imagem Achatada)\n",
    "    : x_tensor: Um tensor de tamanho (Tamanho da Bateria, ...), onde ... são as dimensões da imagem.\n",
    "    : retorna: Um tensor de tamanho (Tamanho da Bateria, Tamanho da Imagem Achatada).\n",
    "    \"\"\"\n",
    "    # TODO: Implementar Função\n",
    "    return None\n",
    "\n",
    "\n",
    "\"\"\"\n",
    "NÃO MODIFIQUE NADA NESTA CÉLULA QUE ESTEJA ABAIXO DESTA LINHA\n",
    "\"\"\"\n",
    "tests.test_flatten(flatten)"
   ]
  },
  {
   "cell_type": "markdown",
   "metadata": {},
   "source": [
    "### Camada Totalmente Conectada (Fully-Connected)\n",
    "Implemente a função `fully_conn` para aplicar uma camada totalmente conectada ao `x_tensor` com o formato (*Tamanho da Bateria*, *num_outputs*). Opção de atalho: você pode usar classes dos pacotes [TensorFlow Layers](https://www.tensorflow.org/api_docs/python/tf/layers) ou [TensorFlow Layers (contrib)](https://www.tensorflow.org/api_guides/python/contrib.layers) para esta camada. Para um desafio maior, use apenas os outros pacotes TensorFlow."
   ]
  },
  {
   "cell_type": "code",
   "execution_count": null,
   "metadata": {},
   "outputs": [],
   "source": [
    "def fully_conn(x_tensor, num_outputs):\n",
    "    \"\"\"\n",
    "    Aplica uma camada totalmente conectada ao x_tensor usando peso e tendência\n",
    "    : x_tensor: Um tensor 2-D cuja primeira dimensão é o tamanho da bateria.\n",
    "    : num_outputs: O número de saída que o novo tensor deve assumir.\n",
    "    : retorna: Um tensor 2-D cuja segunda dimensão é num_outputs.\n",
    "    \"\"\"\n",
    "    # TODO: Implementar Função\n",
    "    return None\n",
    "\n",
    "\n",
    "\"\"\"\n",
    "NÃO MODIFIQUE NADA NESTA CÉLULA QUE ESTEJA ABAIXO DESTA LINHA\n",
    "\"\"\"\n",
    "tests.test_fully_conn(fully_conn)"
   ]
  },
  {
   "cell_type": "markdown",
   "metadata": {},
   "source": [
    "### Camada de Saída\n",
    "Implemente a função `output` para aplicar uma camada inteiramente conectada ao `x_tensor` com formato (*Tamanho de Bateria*, *num_outputs*). Opção de atalho:você pode usar classes dos pacotes [TensorFlow Layers](https://www.tensorflow.org/api_docs/python/tf/layers) ou [TensorFlow Layers (contrib)](https://www.tensorflow.org/api_guides/python/contrib.layers) para esta camada. Para um desafio maior, use apenas os outros pacotes TensorFlow.\n",
    "\n",
    "**Obs:** Ativação, softmax ou entropia cruada **não** devem ser aplicada a esta camada."
   ]
  },
  {
   "cell_type": "code",
   "execution_count": null,
   "metadata": {},
   "outputs": [],
   "source": [
    "def output(x_tensor, num_outputs):\n",
    "    \"\"\"\n",
    "    Aplica uma camada de saída ao x_tensor usando peso e tendência\n",
    "    : x_tensor: Um tensor 2-D cuja primeira dimensão é o tamanho da bateria.\n",
    "    : num_outputs: O número de saída que o novo tensor deve assumir.\n",
    "    : retorna: Um tensor 2-D cuja segunda dimensão é num_outputs.\n",
    "    \"\"\"\n",
    "    # TODO: Implementar Função\n",
    "    return None\n",
    "\n",
    "\n",
    "\"\"\"\n",
    "NÃO MODIFIQUE NADA NESTA CÉLULA QUE ESTEJA ABAIXO DESTA LINHA\n",
    "\"\"\"\n",
    "tests.test_output(output)"
   ]
  },
  {
   "cell_type": "markdown",
   "metadata": {},
   "source": [
    "### Crie o Modelo Convolucional\n",
    "Implemente a função `conv_net` para criar um modelo de rede neural convolucional. A função recebe uma bateria de imagens, `x`, como entrada e retorna logits.  Use as camadas que você criou acima para criar este modelo:\n",
    "\n",
    "* Aplique 1, 2, ou 3 Camadas de Convolução e Max Pooling\n",
    "* Aplique uma camada Flatten\n",
    "* Aplique 1, 2, ou 3 Camadas Totalmente Conectadas\n",
    "* Aplique uma camada de Saída\n",
    "* Retorne a saída\n",
    "* Aplique desligamento (dropout) do [TensorFlow](https://www.tensorflow.org/api_docs/python/tf/nn/dropout) a uma ou mais camadas do modelo usando `keep_prob`. "
   ]
  },
  {
   "cell_type": "code",
   "execution_count": null,
   "metadata": {},
   "outputs": [],
   "source": [
    "def conv_net(x, keep_prob):\n",
    "    \"\"\"\n",
    "    Cria um modelo de rede neural convolucional\n",
    "    : x: Tensor placeholder para os dados da imagem.\n",
    "    : keep_prob: Tensor placeholder para a probabilidade de não desligamento.\n",
    "    : return: Tensor que representa logits\n",
    "    \"\"\"\n",
    "    # TODO: Aplicar 1, 2, ou 3 camadas de Convolução e Max Pooling\n",
    "    #    Brinque um pouco com diferentes números de saídas, tamanho de campo e stride\n",
    "    # Definição da Função Acima:\n",
    "    #    conv2d_maxpool(x_tensor, conv_num_outputs, conv_ksize, conv_strides, pool_ksize, pool_strides)\n",
    "    \n",
    "\n",
    "    # TODO: Aplica Camada Flatten\n",
    "    # Definição da Função Acima:\n",
    "    #   flatten(x_tensor)\n",
    "    \n",
    "\n",
    "    # TODO: Aplicar 1, 2, ou 3 Camadas Totalmente Conectadas\n",
    "    #    Brinque um pouco com diferentes números de saídas\n",
    "    # Definição da Função Acima:\n",
    "    #   fully_conn(x_tensor, num_outputs)\n",
    "    \n",
    "    \n",
    "    # TODO: Aplicar uma Camada de Saída\n",
    "    #    Ajuste para número de classes\n",
    "    # Definição da Função Acima:\n",
    "    #   output(x_tensor, num_outputs)\n",
    "    \n",
    "    \n",
    "    # TODO: retornar saída\n",
    "    return None\n",
    "\n",
    "\n",
    "\"\"\"\n",
    "NÃO MODIFIQUE NADA NESTA CÉLULA QUE ESTEJA ABAIXO DESTA LINHA\n",
    "\"\"\"\n",
    "\n",
    "#############################\n",
    "## Construa a Rede Neural ##\n",
    "#############################\n",
    "\n",
    "# Remova os pesos, tendências, entradas etc. anteriores\n",
    "tf.reset_default_graph()\n",
    "\n",
    "# Entradas\n",
    "x = neural_net_image_input((32, 32, 3))\n",
    "y = neural_net_label_input(10)\n",
    "keep_prob = neural_net_keep_prob_input()\n",
    "\n",
    "# Modelo\n",
    "logits = conv_net(x, keep_prob)\n",
    "\n",
    "# Nomeie o Tensor de logits, para que ele possa ser carregado no disco depois do treinamento\n",
    "logits = tf.identity(logits, name='logits')\n",
    "\n",
    "# Custo (Loss) e Otimização\n",
    "cost = tf.reduce_mean(tf.nn.softmax_cross_entropy_with_logits(logits=logits, labels=y))\n",
    "optimizer = tf.train.AdamOptimizer().minimize(cost)\n",
    "\n",
    "# Acurácia\n",
    "correct_pred = tf.equal(tf.argmax(logits, 1), tf.argmax(y, 1))\n",
    "accuracy = tf.reduce_mean(tf.cast(correct_pred, tf.float32), name='accuracy')\n",
    "\n",
    "tests.test_conv_net(conv_net)"
   ]
  },
  {
   "cell_type": "markdown",
   "metadata": {},
   "source": [
    "## Treine a Rede Neural\n",
    "### Otimização Única\n",
    "Implemente a função `train_neural_network`para fazer uma otimização única. Deve-se usar `optimizer` para otimizar a `session` com um `feed_dict` da forma a seguir:\n",
    "* `x` para entrada de imagem\n",
    "* `y` para legendas\n",
    "* `keep_prob` para probabilidade de não desligamento\n",
    "\n",
    "Esta função será chamada para cada bateria, então `tf.global_variables_initializer()` já terá sido chamado.\n",
    "\n",
    "Obs: Nada precisa ser retornado. Essa função apenas otimiza a rede neural."
   ]
  },
  {
   "cell_type": "code",
   "execution_count": null,
   "metadata": {},
   "outputs": [],
   "source": [
    "def train_neural_network(session, optimizer, keep_probability, feature_batch, label_batch):\n",
    "    \"\"\"\n",
    "    Otimize a sessão em uma bateria de imagens e legendas\n",
    "    : session: Sessão atual do TensorFlow\n",
    "    : optimizer: Função de otimização TensorFlow\n",
    "    : keep_probability: probabilidade de não desligamento\n",
    "    : feature_batch: Bateria de dados de imagens Numpy\n",
    "    : label_batch: Bateria de dados de legendas Numpy\n",
    "    \"\"\"\n",
    "    # TODO: Implementar Função\n",
    "    pass\n",
    "\n",
    "\n",
    "\"\"\"\n",
    "NÃO MODIFIQUE NADA NESTA CÉLULA QUE ESTEJA ABAIXO DESTA LINHA\n",
    "\"\"\"\n",
    "tests.test_train_nn(train_neural_network)"
   ]
  },
  {
   "cell_type": "markdown",
   "metadata": {},
   "source": [
    "### Mostre as Estatísticas\n",
    "Implemente a função `print_stats` para imprimir custo (loss) e acurácia de validação.  Use as variáveis globais `valid_features` e `valid_labels` para calcular acurácia de validação.  Use probabilidade de permanência de `1.0` para calcular o custo e acurácia de validação."
   ]
  },
  {
   "cell_type": "code",
   "execution_count": null,
   "metadata": {},
   "outputs": [],
   "source": [
    "def print_stats(session, feature_batch, label_batch, cost, accuracy):\n",
    "    \"\"\"\n",
    "    Imprime informações sobre custo e acurácia de validação\n",
    "    : session: Sessão atual do TensorFlow\n",
    "    : feature_batch: Bateria com dados de imagem Numpy\n",
    "    : label_batch: Bateria com dados de legenda Numpy\n",
    "    : cost: Função de custo TensorFlow\n",
    "    : accuracy: Função de acurácia TensorFlow\n",
    "    \"\"\"\n",
    "    # TODO: Implementar Função\n",
    "    pass"
   ]
  },
  {
   "cell_type": "markdown",
   "metadata": {},
   "source": [
    "### Hiperparâmetros\n",
    "Ajuste os valores a seguir:\n",
    "* Atribua a `epochs` o número de iterações até que a rede pare de aprender ou comece a se sobreajustar\n",
    "* Atribua a `batch_size` o maior número que a sua máquina tiver memória para aguentar. A maioria das pessoas usa tamanhos comuns de memória:\n",
    " * 64\n",
    " * 128\n",
    " * 256\n",
    " * ...\n",
    "* Atribua a `keep_probability` a probabilidade de permanência de um nó utilizando a técnica de desligamento (dropout)"
   ]
  },
  {
   "cell_type": "code",
   "execution_count": null,
   "metadata": {
    "collapsed": true
   },
   "outputs": [],
   "source": [
    "# TODO: Ajustar Parâmetros\n",
    "epochs = None\n",
    "batch_size = None\n",
    "keep_probability = None"
   ]
  },
  {
   "cell_type": "markdown",
   "metadata": {},
   "source": [
    "### Treine uma única bateria do CIFAR-10\n",
    "Em vez de treinar a rede em todas as baterias de dados do CIFAR-10, vamos usar uma única bateria. Isso deve poupar tempo ao iterar o modelo para obter uma melhor acurácia. Uma vez que a acurácia da validação final seja 50% ou maior, rode o modelo em todos os dados na próxima seção."
   ]
  },
  {
   "cell_type": "code",
   "execution_count": null,
   "metadata": {},
   "outputs": [],
   "source": [
    "\"\"\"\n",
    "NÃO MODIFIQUE NADA NESTA CÉLULA\n",
    "\"\"\"\n",
    "print('Checking the Training on a Single Batch...')\n",
    "with tf.Session() as sess:\n",
    "    # Inicializando as variáveis\n",
    "    sess.run(tf.global_variables_initializer())\n",
    "    \n",
    "    # Ciclo de treinamento\n",
    "    for epoch in range(epochs):\n",
    "        batch_i = 1\n",
    "        for batch_features, batch_labels in helper.load_preprocess_training_batch(batch_i, batch_size):\n",
    "            train_neural_network(sess, optimizer, keep_probability, batch_features, batch_labels)\n",
    "        print('Epoch {:>2}, CIFAR-10 Batch {}:  '.format(epoch + 1, batch_i), end='')\n",
    "        print_stats(sess, batch_features, batch_labels, cost, accuracy)"
   ]
  },
  {
   "cell_type": "markdown",
   "metadata": {},
   "source": [
    "### Treine Completamente o Modelo\n",
    "Agora que você obteve uma boa acurácia com uma única bateria do CIFAR-10, tente com todas as 5 baterias."
   ]
  },
  {
   "cell_type": "code",
   "execution_count": null,
   "metadata": {},
   "outputs": [],
   "source": [
    "\"\"\"\n",
    "NÃO MODIFIQUE NADA NESTA CÉLULA\n",
    "\"\"\"\n",
    "save_model_path = './image_classification'\n",
    "\n",
    "print('Training...')\n",
    "with tf.Session() as sess:\n",
    "    # Inicializando as variáveis\n",
    "    sess.run(tf.global_variables_initializer())\n",
    "    \n",
    "    # Ciclo de treinamento\n",
    "    for epoch in range(epochs):\n",
    "        # Varre todas as baterias\n",
    "        n_batches = 5\n",
    "        for batch_i in range(1, n_batches + 1):\n",
    "            for batch_features, batch_labels in helper.load_preprocess_training_batch(batch_i, batch_size):\n",
    "                train_neural_network(sess, optimizer, keep_probability, batch_features, batch_labels)\n",
    "            print('Epoch {:>2}, CIFAR-10 Batch {}:  '.format(epoch + 1, batch_i), end='')\n",
    "            print_stats(sess, batch_features, batch_labels, cost, accuracy)\n",
    "            \n",
    "    # Salva o Modelo\n",
    "    saver = tf.train.Saver()\n",
    "    save_path = saver.save(sess, save_model_path)"
   ]
  },
  {
   "cell_type": "markdown",
   "metadata": {},
   "source": [
    "# Ponto de parada (Check Point)\n",
    "O modelo foi salvo no disco.\n",
    "## Teste o Modelo\n",
    "Teste o modelo utilizando o conjunto de dados de teste. Esta será sua acurácia final. Você deve ter uma acurácia maior que 50%. Se não, continue mexendo na arquitetura do modelo e parâmetros."
   ]
  },
  {
   "cell_type": "code",
   "execution_count": null,
   "metadata": {},
   "outputs": [],
   "source": [
    "\"\"\"\n",
    "NÃO MODIFIQUE NADA NESTA CÉLULA\n",
    "\"\"\"\n",
    "%matplotlib inline\n",
    "%config InlineBackend.figure_format = 'retina'\n",
    "\n",
    "import tensorflow as tf\n",
    "import pickle\n",
    "import helper\n",
    "import random\n",
    "\n",
    "# Define tamanho da bateria caso não esteja definido\n",
    "try:\n",
    "    if batch_size:\n",
    "        pass\n",
    "except NameError:\n",
    "    batch_size = 64\n",
    "\n",
    "save_model_path = './image_classification'\n",
    "n_samples = 4\n",
    "top_n_predictions = 3\n",
    "\n",
    "def test_model():\n",
    "    \"\"\"\n",
    "    Testa o modelo salvo utilizando o conjunto de dados de teste\n",
    "    \"\"\"\n",
    "\n",
    "    test_features, test_labels = pickle.load(open('preprocess_test.p', mode='rb'))\n",
    "    loaded_graph = tf.Graph()\n",
    "\n",
    "    with tf.Session(graph=loaded_graph) as sess:\n",
    "        # Carrega modelo\n",
    "        loader = tf.train.import_meta_graph(save_model_path + '.meta')\n",
    "        loader.restore(sess, save_model_path)\n",
    "\n",
    "        # Obtém Tensores do modelo carregado\n",
    "        loaded_x = loaded_graph.get_tensor_by_name('x:0')\n",
    "        loaded_y = loaded_graph.get_tensor_by_name('y:0')\n",
    "        loaded_keep_prob = loaded_graph.get_tensor_by_name('keep_prob:0')\n",
    "        loaded_logits = loaded_graph.get_tensor_by_name('logits:0')\n",
    "        loaded_acc = loaded_graph.get_tensor_by_name('accuracy:0')\n",
    "        \n",
    "        # Obtém acurácia em baterias por limitações de memória\n",
    "        test_batch_acc_total = 0\n",
    "        test_batch_count = 0\n",
    "        \n",
    "        for test_feature_batch, test_label_batch in helper.batch_features_labels(test_features, test_labels, batch_size):\n",
    "            test_batch_acc_total += sess.run(\n",
    "                loaded_acc,\n",
    "                feed_dict={loaded_x: test_feature_batch, loaded_y: test_label_batch, loaded_keep_prob: 1.0})\n",
    "            test_batch_count += 1\n",
    "\n",
    "        print('Testing Accuracy: {}\\n'.format(test_batch_acc_total/test_batch_count))\n",
    "\n",
    "        # Imprime Amostras Aletórias\n",
    "        random_test_features, random_test_labels = tuple(zip(*random.sample(list(zip(test_features, test_labels)), n_samples)))\n",
    "        random_test_predictions = sess.run(\n",
    "            tf.nn.top_k(tf.nn.softmax(loaded_logits), top_n_predictions),\n",
    "            feed_dict={loaded_x: random_test_features, loaded_y: random_test_labels, loaded_keep_prob: 1.0})\n",
    "        helper.display_image_predictions(random_test_features, random_test_labels, random_test_predictions)\n",
    "\n",
    "\n",
    "test_model()"
   ]
  },
  {
   "cell_type": "markdown",
   "metadata": {},
   "source": [
    "## Por Que Acurácia de 50-80%?\n",
    "Você talvez esteja se indagando por que não consegue obter uma acurácia maior. Primeiramente, 50% não é ruim para uma rede neural convolucional (CNN) simples. Chutes apenas lhe dariam uma acurácia de 10%. Contudo, você talvez tenha notado que algumas pessoas obtêm resultados [bem acima de 80%](http://rodrigob.github.io/are_we_there_yet/build/classification_datasets_results.html#43494641522d3130).  Isso é por que ainda não lhe ensinamos tudo o que há para saber sobre redes neurais. Ainda precsamos cobrir algumas técnicas.\n",
    "## Enviando Este Projeto\n",
    "Quando for enviar este projeto, certifique-se de rodar todas as células de código antes de salvar o notebook.  Salve o arquivo de notebook como \"dlnd_image_classification.ipynb\" e salve-o como arquivo HTML em \"File\" -> \"Download as\".  Inclua os arquivos \"helper.py\" e \"problem_unittests.py\" no seu envio."
   ]
  }
 ],
 "metadata": {
  "kernelspec": {
   "display_name": "Python 3",
   "language": "python",
   "name": "python3"
  },
  "language_info": {
   "codemirror_mode": {
    "name": "ipython",
    "version": 3
   },
   "file_extension": ".py",
   "mimetype": "text/x-python",
   "name": "python",
   "nbconvert_exporter": "python",
   "pygments_lexer": "ipython3",
   "version": "3.6.0"
  }
 },
 "nbformat": 4,
 "nbformat_minor": 1
}
